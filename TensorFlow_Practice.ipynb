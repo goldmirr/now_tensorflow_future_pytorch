{
  "nbformat": 4,
  "nbformat_minor": 0,
  "metadata": {
    "colab": {
      "name": "TensorFlow_Practice.ipynb",
      "provenance": [],
      "collapsed_sections": [],
      "mount_file_id": "17_pqMNFO6CANQnOa4WQbP8w38FNqDckr",
      "authorship_tag": "ABX9TyPENMccg+7SxxyYfSWpXv9f",
      "include_colab_link": true
    },
    "kernelspec": {
      "name": "python3",
      "display_name": "Python 3"
    },
    "language_info": {
      "name": "python"
    }
  },
  "cells": [
    {
      "cell_type": "markdown",
      "metadata": {
        "id": "view-in-github",
        "colab_type": "text"
      },
      "source": [
        "<a href=\"https://colab.research.google.com/github/goldmirr/now_tensorflow_future_pytorch/blob/main/TensorFlow_Practice.ipynb\" target=\"_parent\"><img src=\"https://colab.research.google.com/assets/colab-badge.svg\" alt=\"Open In Colab\"/></a>"
      ]
    },
    {
      "cell_type": "markdown",
      "source": [
        "#텐서플로우 낙서장\n",
        "\n",
        "텐서가 필요한 이유\n",
        "- 행렬로 인풋/W값 저장가능\n",
        "- 그리고 Node 값 계산식이 쉬워진다.\n",
        "\n",
        "tf.matmul() 행렬 곱셈이다.\n",
        "dot과 matmul 차이\n",
        "dot은 두배열의 내적곱 matmul은 두 배열의 행렬곱이다.\n",
        "\n",
        "dot은 첫번째 배열의 3번째와 2번째 배열의 뒤에서 2번째 값이 같아야 된다. ex.) A.shape(a1,a2,<font color='red'>a3</font>) B.shape(b1,<font color='red'>b2</font>,b3)\n",
        "dot 결과는 (a1,a2,b1,b3)의 4차원 텐서다.\n",
        "\n",
        "matmul의 마지막 2개의 축으로 이루어진 행렬을 나머지 축에 따라 쌓아놓은 것이라고 생각한다. 그래서 앞의 행렬의 마지막과 뒤의 행렬 마지막에서 둘째의 값이 같아야된다. 그리고 마지막 2개 앞의 박스 수가 같아야된다.\n",
        "ex.) A.shape(<font color='blue'>a1</font>,a2,<font color='red'>a3</font>) B.shape(<font color='blue'>b1</font>,<font color='red'>b2</font>,b3)\n",
        "\n",
        "maumul 결과는 A = (2,3,4)  C = (1,5,3,2,4,6) \n",
        " np.matmul(A,C).shape = (1, 5, 3, 2, 3, 6)\n",
        "\n",
        "tf.zeros(형태)는 0으로 가득찬 텐서를 만들어준다.\n",
        "\n",
        "shape\n",
        "복잡한 행렬 shape 생각할때 그냥 뒤에서 부터 list 읽기 ex. (3,2,4)라면 4 크기의 list가 2개있고 그런게 3개가 있다.\n",
        "\n",
        "type 데이터타입 정수형 int 실수는 float\n",
        "tf.cast()로 데이터 캐스팅 가능하다.\n",
        "\n",
        "(고정값) tf.constant([3,4,5])는 변하지 않는 텐서  \n",
        "  (변수)   tf.Variable()는 weight 설정할때 자주 쓰고 ()안에 초기값 넣어주는거 가능 \n",
        "  w.assign()으로 변수값 변경가능\n",
        "\n",
        "\n"
      ],
      "metadata": {
        "id": "KI0kXYYSPTib"
      }
    },
    {
      "cell_type": "code",
      "source": [
        "#간단한 수학문제(키랑 신발사이즈)\n",
        "\n",
        "\n",
        "import tensorflow as tf\n",
        "\n",
        "키 =[170, 180, 175, 160]\n",
        "신발 = [260, 270, 265, 255]\n",
        "\n",
        "# 신발 = 키 * a + b   키랑 신발사이즈랑 관련이 있다고 추정\n",
        "\n",
        "a = tf.Variable(0.1)\n",
        "b = tf.Variable(0.2)\n",
        "\n",
        "opt = tf.keras.optimizers.Adam(learning_rate=0.1)   #경사 하강법을 통해서 W를 업데이트한다. 변수 업데이트\n",
        "\n",
        "def 손실함수():\n",
        "  예측값 = 키 * a + b\n",
        "  return tf.square(260 - 예측값)         # (실제값 - 예측값)^2 = 오차값^2\n",
        "\n",
        "for i in range(300):\n",
        "  opt.minimize(손실함수 , var_list=[a,b])  #  경사 하강 실행 ,   var_list=[a,b]는 업데이트할 변수들 목록을 집어넣는다. a랑 b를 이 경우에는 업데이트해줌\n",
        "  print(a,b) # (a.numpy(),b.numpy())로 하면 값만 출력"
      ],
      "metadata": {
        "id": "CCIz7semQESU"
      },
      "execution_count": null,
      "outputs": []
    },
    {
      "cell_type": "markdown",
      "source": [
        "텐서플로우로 딥러닝하고싶으면 코드짜는 방법은 이렇습니다\n",
        "\n",
        "1. 모델과 레이어 대충 디자인하기\n",
        "2. model.compile에 loss함수, optimizer 넣기\n",
        "3. 학습용 X와 Y데이터 준비하기 \n",
        "4. X와 Y데이터 model.fit에 넣기\n",
        "5. 그럼 학습해주는데 끝나면 predict 해보기\n",
        "\n",
        "를 쭉 적고 실행하면 됩니다.  \n",
        "X와 Y데이터는 각각 AI에 뭘 집어넣으면 뭘 예측하게 만들건지를 집어넣으면 됩니다. 그니까 우리모델의...\n",
        "\n",
        "*X데이터*는 [학점, 영어성적] \n",
        "*Y데이터*는 그 학생의 합격여부를 0또는 1로  \n",
        "\n",
        "설정하면 끝입니다. \n",
        "\n",
        "성능 향상을 위해서는\n",
        "데이터 전처리 , 모델튜닝(레이어) "
      ],
      "metadata": {
        "id": "ld32tmXOIyGC"
      }
    },
    {
      "cell_type": "code",
      "source": [
        "import pandas as pd\n",
        "\n",
        "data = pd.read_csv('/content/drive/MyDrive/gpascore.csv')  #엑셀 데이터파일 열기  데이터프레임\n",
        "\n",
        "\n",
        "#*****데이터 전처리하기***** \n",
        "\n",
        "##데이터가 비어있는 공간(평균값을 집어넣거나 행을 삭제한다.)\n",
        "#print(data.isnull().sum())   # 비어있는 데이터종류와 개수를 출력해준다.\n",
        "data = data.dropna() # 데이터가 NAN이거나 빈값이면 행을 제거해준다.\n",
        "# data = data.fillna(100)   빈 칸을 100으로 채워준다.\n",
        "\n",
        "## 유용한 pandas 사용법들\n",
        "# print(data['gpa'].min())\n",
        "# print(data['gpa'].max())\n",
        "# print(data['gpa'].count())\n",
        "\n",
        "y데이터 = data['admit'].values\n",
        "\n",
        "x데이터 = [ ]\n",
        "\n",
        "for i, rows in data.iterrows():  # data.iterrows()는 data라는 데이터프레임을 가로 한줄씩(행으로) 출력해준다.\n",
        "  x데이터.append([rows['gre'], rows['gpa'], rows['rank']])\n",
        "\n",
        "\n",
        "\n",
        "import tensorflow as tf\n",
        "import numpy as np\n",
        "\n",
        "\n",
        "model = tf.keras.models.Sequential([                    #딥러닝 모델 만들기 \n",
        "  tf.keras.layers.Dense(64, activation='tanh'),         #첫번째 레이어 만들기   (노드의개수, activation='tanh' )  개수 , 활성화 함수,   \n",
        "  tf.keras.layers.Dense(128, activation='tanh'),        #두번째 레이어 만들기     레이어개수 노드 개수는 마음대로 하지만 결과가 잘 나올 때까지 실험으로 파악해야된다. 보통 2의 제곱수로 많이한다.\n",
        "  tf.keras.layers.Dense(1, activation='sigmoid'),       #마지막에 올 것은 예측결과(보통 확률)이다. 결과를 몇개 출력하고 싶은지에 따라 바뀜(보통 하나의 결과).\n",
        "]) \n",
        "\n",
        "model.compile(optimizer='adam', loss='binary_crossentropy', metrics=['accuracy'])        # optimizer은 경사법의 learnin rate(학습률)을 변화시키면서 자동으로  ,  loss는 손실함수 확률은 binary_crossentropy , metrics는 평가요소\n",
        "\n",
        "model.fit( np.array(x데이터), np.array(y데이터),epochs=1000  ) # x데이터는 학습데이터 y데이터는 실제 데이터(정답)  epochs는 학습횟수(데이터셋 학습횟수)\n",
        "\n",
        "# x데이터 형태 [[380, 3.21, 3],[660, 3.67, 3],[],[]]  input이고\n",
        "# y데이터 형태 [0,1,1,1]                              정답이다.\n",
        "\n",
        "\n",
        "\n",
        "#******예측******\n",
        "\n",
        "예측값 = model.predict( [ [750, 3.70, 3], [400, 2.2, 1] ] )\n",
        "\n",
        "print(예측값)           # [[0.6042901 ]   [0.01291543]]\n",
        "\n"
      ],
      "metadata": {
        "id": "9GNPG9ihI1HT"
      },
      "execution_count": null,
      "outputs": []
    }
  ]
}